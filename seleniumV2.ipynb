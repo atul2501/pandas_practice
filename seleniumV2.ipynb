{
 "cells": [
  {
   "cell_type": "code",
   "execution_count": 53,
   "id": "9e34ab14-b1a9-43cf-afd9-38282a1958cf",
   "metadata": {},
   "outputs": [],
   "source": [
    "#import \n",
    "import time\n",
    "from selenium import webdriver\n",
    "from selenium.webdriver.common.by import By\n",
    "from selenium.webdriver.common.keys import Keys\n",
    "import undetected_chromedriver as uc\n",
    "from selenium.webdriver.support.select import Select\n",
    "from selenium.webdriver.support.ui import WebDriverWait\n",
    "from selenium.webdriver.support import expected_conditions as EC"
   ]
  },
  {
   "cell_type": "code",
   "execution_count": 68,
   "id": "30c45d3b-6ee6-40cf-a0d3-a35782d81050",
   "metadata": {},
   "outputs": [
    {
     "name": "stderr",
     "output_type": "stream",
     "text": [
      "/opt/anaconda3/lib/python3.12/site-packages/selenium/webdriver/remote/webdriver.py:994: UserWarning: name used for saved screenshot does not match file type. It should end with a `.png` extension\n",
      "  return self.get_screenshot_as_file(filename)\n"
     ]
    }
   ],
   "source": [
    "driver=webdriver.Chrome()\n",
    "url='https://www.google.com'\n",
    "driver.get(url)\n",
    "driver.save_screenshot('google-screenshot24')\n",
    "time.sleep(2)\n",
    "driver.quit()"
   ]
  },
  {
   "cell_type": "code",
   "execution_count": 70,
   "id": "00d8d7a3-b11a-4d33-99f2-007d0035f6c9",
   "metadata": {},
   "outputs": [],
   "source": [
    "driver=uc.Chrome()\n",
    "driver.maximize_window()\n",
    "url='https://www.google.com'\n",
    "driver.get(url)\n",
    "time.sleep(2)\n",
    "\n",
    "serch_bar_Xpath='//*[@id=\"APjFqb\"]'\n",
    "serch_bar=driver.find_element(by=By.XPATH, value=serch_bar_Xpath)\n",
    "\n",
    "#serch\n",
    "serch_bar.send_keys('Matchine learning')\n",
    "time.sleep(2)\n",
    "\n",
    "\n",
    "#enter\n",
    "serch_bar.send_keys(Keys.ENTER)\n",
    "#time.sleep(12)\n",
    "\n",
    "#clicking action\n",
    "link_path='//*[@id=\"rso\"]/div[2]/div/div/div[1]/div/div[2]/div/div/span/a/h3'\n",
    "link=driver.find_element(by=By.XPATH,value=link_path)\n",
    "link.click()\n",
    "\n",
    "\n",
    "#close\n",
    "driver.quit()\n",
    "\n"
   ]
  },
  {
   "cell_type": "code",
   "execution_count": 114,
   "id": "5bd1adb1-00d9-4a21-b495-06d6a3a736c4",
   "metadata": {},
   "outputs": [],
   "source": [
    "#youtube\n",
    "driver=webdriver.Chrome()\n",
    "driver.maximize_window()\n",
    "\n",
    "url='https://www.youtube.com'\n",
    "driver.get(url)\n",
    "time.sleep(5)\n",
    "\n",
    "#select\n",
    "#search_bar=driver.find_element(By.NAME,'search query')\n",
    "search_bar = driver.find_element(By.NAME, 'search_query')\n",
    "\n",
    "#enter\n",
    "search_bar.send_keys('Prahant dhavan carer247')\n",
    "time.sleep(5)\n",
    "\n",
    "#click\n",
    "search_bar.send_keys(Keys.ENTER)\n",
    "\n",
    "\n",
    "//*[@id=\"video-title\"]/yt-formatted-string\n",
    "#play_v=\n",
    "\n",
    "\n",
    "\n"
   ]
  },
  {
   "cell_type": "code",
   "execution_count": 136,
   "id": "ec2d8f2f-a0fb-448a-b25f-9e2a6f324bbd",
   "metadata": {},
   "outputs": [],
   "source": [
    "driver=webdriver.Chrome()\n",
    "driver.maximize_window()\n",
    "\n",
    "url='https://www.miniclip.com/careers/vacancies'\n",
    "driver.get(url)\n",
    "time.sleep(3)\n",
    "#//*[@id=\"__layout\"]/div/div/section[2]/div/fieldset[3]/select\n",
    "department_field=driver.find_element(By.XPATH,'//*[@id=\"__layout\"]/div/div/section[2]/div/fieldset[3]/select')\n",
    "\n",
    "department_dropdown=Select(department_field)\n",
    "time.sleep(3)\n",
    "\n",
    "department_dropdown.select_by_index(5)\n",
    "time.sleep(3)\n",
    "\n",
    "department_dropdown.select_by_visible_text('General')\n",
    "time.sleep(4)"
   ]
  },
  {
   "cell_type": "code",
   "execution_count": 169,
   "id": "d2b715b7-bc52-461e-aed8-58c255517594",
   "metadata": {},
   "outputs": [
    {
     "name": "stdout",
     "output_type": "stream",
     "text": [
      "done\n"
     ]
    }
   ],
   "source": [
    "driver=uc.Chrome()\n",
    "driver.maximize_window()\n",
    "driver.get('https://demoqa.com/select-menu')\n",
    "time.sleep(3)\n",
    "\n",
    "cars_element=driver.find_element(By.XPATH,'//*[@id=\"cars\"]')\n",
    "\n",
    "cars_ms=Select(cars_element)\n",
    "\n",
    "cars_ms.select_by_index(2)\n",
    "time.sleep(1)\n",
    "cars_ms.select_by_index(3)\n",
    "time.sleep(1)\n",
    "cars_ms.select_by_visible_text('Volvo')\n",
    "time.sleep(1)\n",
    "print('done')\n",
    "cars_ms.deselect_by_index(2)\n",
    "time.sleep(1)\n",
    "cars_ms.deselect_by_visible_text('Volvo')\n",
    "time.sleep(1)\n",
    "cars_ms.deselect_all()\n",
    "time.sleep(3)\n",
    "\n",
    "\n",
    "\n",
    "\n",
    "driver.quit()\n"
   ]
  },
  {
   "cell_type": "markdown",
   "id": "5f532739-ded3-4e55-af3d-fd43ba430048",
   "metadata": {},
   "source": [
    "# basic Scrolling "
   ]
  },
  {
   "cell_type": "markdown",
   "id": "ffb37d62-f3c3-4bdd-8a0a-d0be23358bda",
   "metadata": {},
   "source": [
    "# driver.execute_script(script,*args)"
   ]
  },
  {
   "cell_type": "code",
   "execution_count": 197,
   "id": "75d54b2b-ef2e-46b9-8621-faf0bcc42caa",
   "metadata": {},
   "outputs": [
    {
     "ename": "SessionNotCreatedException",
     "evalue": "Message: session not created: cannot connect to chrome at 127.0.0.1:60615\nfrom unknown error: unable to discover open pages\nStacktrace:\n0   undetected_chromedriver             0x0000000102f97168 undetected_chromedriver + 6177128\n1   undetected_chromedriver             0x0000000102f8e82a undetected_chromedriver + 6141994\n2   undetected_chromedriver             0x0000000102a18e00 undetected_chromedriver + 417280\n3   undetected_chromedriver             0x0000000102a586e2 undetected_chromedriver + 677602\n4   undetected_chromedriver             0x0000000102a4dfae undetected_chromedriver + 634798\n5   undetected_chromedriver             0x0000000102a9ef22 undetected_chromedriver + 966434\n6   undetected_chromedriver             0x0000000102a9e416 undetected_chromedriver + 963606\n7   undetected_chromedriver             0x0000000102a904c3 undetected_chromedriver + 906435\n8   undetected_chromedriver             0x0000000102a5c885 undetected_chromedriver + 694405\n9   undetected_chromedriver             0x0000000102a5d4f1 undetected_chromedriver + 697585\n10  undetected_chromedriver             0x0000000102f53950 undetected_chromedriver + 5900624\n11  undetected_chromedriver             0x0000000102f579e1 undetected_chromedriver + 5917153\n12  undetected_chromedriver             0x0000000102f2de14 undetected_chromedriver + 5746196\n13  undetected_chromedriver             0x0000000102f5840b undetected_chromedriver + 5919755\n14  undetected_chromedriver             0x0000000102f1c574 undetected_chromedriver + 5674356\n15  undetected_chromedriver             0x0000000102f7be88 undetected_chromedriver + 6065800\n16  undetected_chromedriver             0x0000000102f7c050 undetected_chromedriver + 6066256\n17  undetected_chromedriver             0x0000000102f8e3f1 undetected_chromedriver + 6140913\n18  libsystem_pthread.dylib             0x00007ff8033d4253 _pthread_start + 99\n19  libsystem_pthread.dylib             0x00007ff8033cfbef thread_start + 15\n",
     "output_type": "error",
     "traceback": [
      "\u001b[0;31m---------------------------------------------------------------------------\u001b[0m",
      "\u001b[0;31mSessionNotCreatedException\u001b[0m                Traceback (most recent call last)",
      "Cell \u001b[0;32mIn[197], line 1\u001b[0m\n\u001b[0;32m----> 1\u001b[0m driver\u001b[38;5;241m=\u001b[39muc\u001b[38;5;241m.\u001b[39mChrome()\n\u001b[1;32m      2\u001b[0m driver\u001b[38;5;241m.\u001b[39mmaximize_window()\n\u001b[1;32m      3\u001b[0m driver\u001b[38;5;241m.\u001b[39mget(\u001b[38;5;124m'\u001b[39m\u001b[38;5;124mhttps://en.wikipedia.org/wiki/Machine_learning\u001b[39m\u001b[38;5;124m'\u001b[39m)\n",
      "File \u001b[0;32m/opt/anaconda3/lib/python3.12/site-packages/undetected_chromedriver/__init__.py:466\u001b[0m, in \u001b[0;36mChrome.__init__\u001b[0;34m(self, options, user_data_dir, driver_executable_path, browser_executable_path, port, enable_cdp_events, desired_capabilities, advanced_elements, keep_alive, log_level, headless, version_main, patcher_force_close, suppress_welcome, use_subprocess, debug, no_sandbox, user_multi_procs, **kw)\u001b[0m\n\u001b[1;32m    459\u001b[0m     \u001b[38;5;28mself\u001b[39m\u001b[38;5;241m.\u001b[39mbrowser_pid \u001b[38;5;241m=\u001b[39m browser\u001b[38;5;241m.\u001b[39mpid\n\u001b[1;32m    462\u001b[0m service \u001b[38;5;241m=\u001b[39m selenium\u001b[38;5;241m.\u001b[39mwebdriver\u001b[38;5;241m.\u001b[39mchromium\u001b[38;5;241m.\u001b[39mservice\u001b[38;5;241m.\u001b[39mChromiumService(\n\u001b[1;32m    463\u001b[0m     \u001b[38;5;28mself\u001b[39m\u001b[38;5;241m.\u001b[39mpatcher\u001b[38;5;241m.\u001b[39mexecutable_path\n\u001b[1;32m    464\u001b[0m )\n\u001b[0;32m--> 466\u001b[0m \u001b[38;5;28msuper\u001b[39m(Chrome, \u001b[38;5;28mself\u001b[39m)\u001b[38;5;241m.\u001b[39m\u001b[38;5;21m__init__\u001b[39m(\n\u001b[1;32m    467\u001b[0m     service\u001b[38;5;241m=\u001b[39mservice,\n\u001b[1;32m    468\u001b[0m     options\u001b[38;5;241m=\u001b[39moptions,\n\u001b[1;32m    469\u001b[0m     keep_alive\u001b[38;5;241m=\u001b[39mkeep_alive,\n\u001b[1;32m    470\u001b[0m )\n\u001b[1;32m    472\u001b[0m \u001b[38;5;28mself\u001b[39m\u001b[38;5;241m.\u001b[39mreactor \u001b[38;5;241m=\u001b[39m \u001b[38;5;28;01mNone\u001b[39;00m\n\u001b[1;32m    474\u001b[0m \u001b[38;5;28;01mif\u001b[39;00m enable_cdp_events:\n",
      "File \u001b[0;32m/opt/anaconda3/lib/python3.12/site-packages/selenium/webdriver/chrome/webdriver.py:45\u001b[0m, in \u001b[0;36mWebDriver.__init__\u001b[0;34m(self, options, service, keep_alive)\u001b[0m\n\u001b[1;32m     42\u001b[0m service \u001b[38;5;241m=\u001b[39m service \u001b[38;5;28;01mif\u001b[39;00m service \u001b[38;5;28;01melse\u001b[39;00m Service()\n\u001b[1;32m     43\u001b[0m options \u001b[38;5;241m=\u001b[39m options \u001b[38;5;28;01mif\u001b[39;00m options \u001b[38;5;28;01melse\u001b[39;00m Options()\n\u001b[0;32m---> 45\u001b[0m \u001b[38;5;28msuper\u001b[39m()\u001b[38;5;241m.\u001b[39m\u001b[38;5;21m__init__\u001b[39m(\n\u001b[1;32m     46\u001b[0m     browser_name\u001b[38;5;241m=\u001b[39mDesiredCapabilities\u001b[38;5;241m.\u001b[39mCHROME[\u001b[38;5;124m\"\u001b[39m\u001b[38;5;124mbrowserName\u001b[39m\u001b[38;5;124m\"\u001b[39m],\n\u001b[1;32m     47\u001b[0m     vendor_prefix\u001b[38;5;241m=\u001b[39m\u001b[38;5;124m\"\u001b[39m\u001b[38;5;124mgoog\u001b[39m\u001b[38;5;124m\"\u001b[39m,\n\u001b[1;32m     48\u001b[0m     options\u001b[38;5;241m=\u001b[39moptions,\n\u001b[1;32m     49\u001b[0m     service\u001b[38;5;241m=\u001b[39mservice,\n\u001b[1;32m     50\u001b[0m     keep_alive\u001b[38;5;241m=\u001b[39mkeep_alive,\n\u001b[1;32m     51\u001b[0m )\n",
      "File \u001b[0;32m/opt/anaconda3/lib/python3.12/site-packages/selenium/webdriver/chromium/webdriver.py:66\u001b[0m, in \u001b[0;36mChromiumDriver.__init__\u001b[0;34m(self, browser_name, vendor_prefix, options, service, keep_alive)\u001b[0m\n\u001b[1;32m     57\u001b[0m executor \u001b[38;5;241m=\u001b[39m ChromiumRemoteConnection(\n\u001b[1;32m     58\u001b[0m     remote_server_addr\u001b[38;5;241m=\u001b[39m\u001b[38;5;28mself\u001b[39m\u001b[38;5;241m.\u001b[39mservice\u001b[38;5;241m.\u001b[39mservice_url,\n\u001b[1;32m     59\u001b[0m     browser_name\u001b[38;5;241m=\u001b[39mbrowser_name,\n\u001b[0;32m   (...)\u001b[0m\n\u001b[1;32m     62\u001b[0m     ignore_proxy\u001b[38;5;241m=\u001b[39moptions\u001b[38;5;241m.\u001b[39m_ignore_local_proxy,\n\u001b[1;32m     63\u001b[0m )\n\u001b[1;32m     65\u001b[0m \u001b[38;5;28;01mtry\u001b[39;00m:\n\u001b[0;32m---> 66\u001b[0m     \u001b[38;5;28msuper\u001b[39m()\u001b[38;5;241m.\u001b[39m\u001b[38;5;21m__init__\u001b[39m(command_executor\u001b[38;5;241m=\u001b[39mexecutor, options\u001b[38;5;241m=\u001b[39moptions)\n\u001b[1;32m     67\u001b[0m \u001b[38;5;28;01mexcept\u001b[39;00m \u001b[38;5;167;01mException\u001b[39;00m:\n\u001b[1;32m     68\u001b[0m     \u001b[38;5;28mself\u001b[39m\u001b[38;5;241m.\u001b[39mquit()\n",
      "File \u001b[0;32m/opt/anaconda3/lib/python3.12/site-packages/selenium/webdriver/remote/webdriver.py:250\u001b[0m, in \u001b[0;36mWebDriver.__init__\u001b[0;34m(self, command_executor, keep_alive, file_detector, options, locator_converter, web_element_cls, client_config)\u001b[0m\n\u001b[1;32m    248\u001b[0m \u001b[38;5;28mself\u001b[39m\u001b[38;5;241m.\u001b[39m_authenticator_id \u001b[38;5;241m=\u001b[39m \u001b[38;5;28;01mNone\u001b[39;00m\n\u001b[1;32m    249\u001b[0m \u001b[38;5;28mself\u001b[39m\u001b[38;5;241m.\u001b[39mstart_client()\n\u001b[0;32m--> 250\u001b[0m \u001b[38;5;28mself\u001b[39m\u001b[38;5;241m.\u001b[39mstart_session(capabilities)\n\u001b[1;32m    251\u001b[0m \u001b[38;5;28mself\u001b[39m\u001b[38;5;241m.\u001b[39m_fedcm \u001b[38;5;241m=\u001b[39m FedCM(\u001b[38;5;28mself\u001b[39m)\n\u001b[1;32m    253\u001b[0m \u001b[38;5;28mself\u001b[39m\u001b[38;5;241m.\u001b[39m_websocket_connection \u001b[38;5;241m=\u001b[39m \u001b[38;5;28;01mNone\u001b[39;00m\n",
      "File \u001b[0;32m/opt/anaconda3/lib/python3.12/site-packages/undetected_chromedriver/__init__.py:724\u001b[0m, in \u001b[0;36mChrome.start_session\u001b[0;34m(self, capabilities, browser_profile)\u001b[0m\n\u001b[1;32m    722\u001b[0m \u001b[38;5;28;01mif\u001b[39;00m \u001b[38;5;129;01mnot\u001b[39;00m capabilities:\n\u001b[1;32m    723\u001b[0m     capabilities \u001b[38;5;241m=\u001b[39m \u001b[38;5;28mself\u001b[39m\u001b[38;5;241m.\u001b[39moptions\u001b[38;5;241m.\u001b[39mto_capabilities()\n\u001b[0;32m--> 724\u001b[0m \u001b[38;5;28msuper\u001b[39m(selenium\u001b[38;5;241m.\u001b[39mwebdriver\u001b[38;5;241m.\u001b[39mchrome\u001b[38;5;241m.\u001b[39mwebdriver\u001b[38;5;241m.\u001b[39mWebDriver, \u001b[38;5;28mself\u001b[39m)\u001b[38;5;241m.\u001b[39mstart_session(\n\u001b[1;32m    725\u001b[0m     capabilities\n\u001b[1;32m    726\u001b[0m )\n",
      "File \u001b[0;32m/opt/anaconda3/lib/python3.12/site-packages/selenium/webdriver/remote/webdriver.py:342\u001b[0m, in \u001b[0;36mWebDriver.start_session\u001b[0;34m(self, capabilities)\u001b[0m\n\u001b[1;32m    333\u001b[0m \u001b[38;5;250m\u001b[39m\u001b[38;5;124;03m\"\"\"Creates a new session with the desired capabilities.\u001b[39;00m\n\u001b[1;32m    334\u001b[0m \n\u001b[1;32m    335\u001b[0m \u001b[38;5;124;03mParameters:\u001b[39;00m\n\u001b[0;32m   (...)\u001b[0m\n\u001b[1;32m    338\u001b[0m \u001b[38;5;124;03m    - A capabilities dict to start the session with.\u001b[39;00m\n\u001b[1;32m    339\u001b[0m \u001b[38;5;124;03m\"\"\"\u001b[39;00m\n\u001b[1;32m    341\u001b[0m caps \u001b[38;5;241m=\u001b[39m _create_caps(capabilities)\n\u001b[0;32m--> 342\u001b[0m response \u001b[38;5;241m=\u001b[39m \u001b[38;5;28mself\u001b[39m\u001b[38;5;241m.\u001b[39mexecute(Command\u001b[38;5;241m.\u001b[39mNEW_SESSION, caps)[\u001b[38;5;124m\"\u001b[39m\u001b[38;5;124mvalue\u001b[39m\u001b[38;5;124m\"\u001b[39m]\n\u001b[1;32m    343\u001b[0m \u001b[38;5;28mself\u001b[39m\u001b[38;5;241m.\u001b[39msession_id \u001b[38;5;241m=\u001b[39m response\u001b[38;5;241m.\u001b[39mget(\u001b[38;5;124m\"\u001b[39m\u001b[38;5;124msessionId\u001b[39m\u001b[38;5;124m\"\u001b[39m)\n\u001b[1;32m    344\u001b[0m \u001b[38;5;28mself\u001b[39m\u001b[38;5;241m.\u001b[39mcaps \u001b[38;5;241m=\u001b[39m response\u001b[38;5;241m.\u001b[39mget(\u001b[38;5;124m\"\u001b[39m\u001b[38;5;124mcapabilities\u001b[39m\u001b[38;5;124m\"\u001b[39m)\n",
      "File \u001b[0;32m/opt/anaconda3/lib/python3.12/site-packages/selenium/webdriver/remote/webdriver.py:429\u001b[0m, in \u001b[0;36mWebDriver.execute\u001b[0;34m(self, driver_command, params)\u001b[0m\n\u001b[1;32m    427\u001b[0m response \u001b[38;5;241m=\u001b[39m \u001b[38;5;28mself\u001b[39m\u001b[38;5;241m.\u001b[39mcommand_executor\u001b[38;5;241m.\u001b[39mexecute(driver_command, params)\n\u001b[1;32m    428\u001b[0m \u001b[38;5;28;01mif\u001b[39;00m response:\n\u001b[0;32m--> 429\u001b[0m     \u001b[38;5;28mself\u001b[39m\u001b[38;5;241m.\u001b[39merror_handler\u001b[38;5;241m.\u001b[39mcheck_response(response)\n\u001b[1;32m    430\u001b[0m     response[\u001b[38;5;124m\"\u001b[39m\u001b[38;5;124mvalue\u001b[39m\u001b[38;5;124m\"\u001b[39m] \u001b[38;5;241m=\u001b[39m \u001b[38;5;28mself\u001b[39m\u001b[38;5;241m.\u001b[39m_unwrap_value(response\u001b[38;5;241m.\u001b[39mget(\u001b[38;5;124m\"\u001b[39m\u001b[38;5;124mvalue\u001b[39m\u001b[38;5;124m\"\u001b[39m, \u001b[38;5;28;01mNone\u001b[39;00m))\n\u001b[1;32m    431\u001b[0m     \u001b[38;5;28;01mreturn\u001b[39;00m response\n",
      "File \u001b[0;32m/opt/anaconda3/lib/python3.12/site-packages/selenium/webdriver/remote/errorhandler.py:232\u001b[0m, in \u001b[0;36mErrorHandler.check_response\u001b[0;34m(self, response)\u001b[0m\n\u001b[1;32m    230\u001b[0m         alert_text \u001b[38;5;241m=\u001b[39m value[\u001b[38;5;124m\"\u001b[39m\u001b[38;5;124malert\u001b[39m\u001b[38;5;124m\"\u001b[39m]\u001b[38;5;241m.\u001b[39mget(\u001b[38;5;124m\"\u001b[39m\u001b[38;5;124mtext\u001b[39m\u001b[38;5;124m\"\u001b[39m)\n\u001b[1;32m    231\u001b[0m     \u001b[38;5;28;01mraise\u001b[39;00m exception_class(message, screen, stacktrace, alert_text)  \u001b[38;5;66;03m# type: ignore[call-arg]  # mypy is not smart enough here\u001b[39;00m\n\u001b[0;32m--> 232\u001b[0m \u001b[38;5;28;01mraise\u001b[39;00m exception_class(message, screen, stacktrace)\n",
      "\u001b[0;31mSessionNotCreatedException\u001b[0m: Message: session not created: cannot connect to chrome at 127.0.0.1:60615\nfrom unknown error: unable to discover open pages\nStacktrace:\n0   undetected_chromedriver             0x0000000102f97168 undetected_chromedriver + 6177128\n1   undetected_chromedriver             0x0000000102f8e82a undetected_chromedriver + 6141994\n2   undetected_chromedriver             0x0000000102a18e00 undetected_chromedriver + 417280\n3   undetected_chromedriver             0x0000000102a586e2 undetected_chromedriver + 677602\n4   undetected_chromedriver             0x0000000102a4dfae undetected_chromedriver + 634798\n5   undetected_chromedriver             0x0000000102a9ef22 undetected_chromedriver + 966434\n6   undetected_chromedriver             0x0000000102a9e416 undetected_chromedriver + 963606\n7   undetected_chromedriver             0x0000000102a904c3 undetected_chromedriver + 906435\n8   undetected_chromedriver             0x0000000102a5c885 undetected_chromedriver + 694405\n9   undetected_chromedriver             0x0000000102a5d4f1 undetected_chromedriver + 697585\n10  undetected_chromedriver             0x0000000102f53950 undetected_chromedriver + 5900624\n11  undetected_chromedriver             0x0000000102f579e1 undetected_chromedriver + 5917153\n12  undetected_chromedriver             0x0000000102f2de14 undetected_chromedriver + 5746196\n13  undetected_chromedriver             0x0000000102f5840b undetected_chromedriver + 5919755\n14  undetected_chromedriver             0x0000000102f1c574 undetected_chromedriver + 5674356\n15  undetected_chromedriver             0x0000000102f7be88 undetected_chromedriver + 6065800\n16  undetected_chromedriver             0x0000000102f7c050 undetected_chromedriver + 6066256\n17  undetected_chromedriver             0x0000000102f8e3f1 undetected_chromedriver + 6140913\n18  libsystem_pthread.dylib             0x00007ff8033d4253 _pthread_start + 99\n19  libsystem_pthread.dylib             0x00007ff8033cfbef thread_start + 15\n"
     ]
    }
   ],
   "source": [
    "driver=uc.Chrome()\n",
    "driver.maximize_window()\n",
    "driver.get('https://en.wikipedia.org/wiki/Machine_learning')\n",
    "time.sleep(2)\n",
    "\n",
    "\n",
    "#scorllin by element \n",
    "ai_xpath='//*[@id=\"Artificial_intelligence\"]'\n",
    "ai_subtopic=driver.find_element(By.XPATH, ai_xpath)\n",
    "driver.execute_script(\"arguments[0].scrollIntoView();\",ai_subtopic)\n",
    "\n"
   ]
  },
  {
   "cell_type": "markdown",
   "id": "5c81ce1c-8b11-4d25-81e9-6f3c153b7715",
   "metadata": {},
   "source": [
    "# scrolling Vertically \n",
    "# ScrollBy"
   ]
  },
  {
   "cell_type": "code",
   "execution_count": 199,
   "id": "68f7a0fc-56b9-40fc-a108-3b24e4a85dea",
   "metadata": {},
   "outputs": [],
   "source": [
    "driver=uc.Chrome()\n",
    "driver.maximize_window()\n",
    "driver.get('https://en.wikipedia.org/wiki/Machine_learning')\n",
    "time.sleep(2)\n",
    "\n",
    "\n",
    "#scorllin by element \n",
    "ai_xpath='//*[@id=\"Artificial_intelligence\"]'\n",
    "ai_subtopic=driver.find_element(By.XPATH, ai_xpath)\n",
    "driver.execute_script(\"arguments[0].scrollIntoView();\",ai_subtopic)\n",
    "\n",
    "\n",
    "time.sleep(2)\n",
    "driver.execute_script(\"window.scrollBy(0,2000);\")\n",
    "\n",
    "time.sleep(3)\n",
    "driver.execute_script('window.scrollBy(0,-500);')\n",
    "\n",
    "driver.execute_script('window.scrollBy(100,0);')\n"
   ]
  },
  {
   "cell_type": "code",
   "execution_count": 201,
   "id": "b74b5073-5acc-4d02-a314-27565427517e",
   "metadata": {},
   "outputs": [],
   "source": [
    "#Scrolling by page height "
   ]
  },
  {
   "cell_type": "code",
   "execution_count": 22,
   "id": "45dc7988-0a94-4a81-bdbc-b7dea75d0ecb",
   "metadata": {},
   "outputs": [],
   "source": [
    "driver=uc.Chrome()\n",
    "driver.maximize_window()\n",
    "driver.get('https://en.wikipedia.org/wiki/Machine_learning')\n",
    "time.sleep(2)\n",
    "\n",
    "\n",
    "#scorllin by element \n",
    "#ai_xpath='//*[@id=\"Artificial_intelligence\"]'\n",
    "#ai_subtopic=driver.find_element(By.XPATH, ai_xpath)\n",
    "#driver.execute_script(\"arguments[0].scrollIntoView();\",ai_subtopic)\n",
    "\n",
    "#Scrolling by page height \n",
    "driver.execute_script(\"window.scrollTo(0,document.body.scrollHeight);\")\n",
    "time.sleep(3)\n",
    "#driver.quit()\n",
    "driver.execute_script(\"window.scrollTo(0,-document.body.scrollHeight);\")"
   ]
  },
  {
   "cell_type": "code",
   "execution_count": 46,
   "id": "6bbd1fd0-4f89-4dbb-848e-8733a7dc77e0",
   "metadata": {},
   "outputs": [
    {
     "name": "stdout",
     "output_type": "stream",
     "text": [
      "3022\n",
      "5750\n",
      "8230\n",
      "10958\n",
      "13438\n",
      "15918\n",
      "18398\n",
      "19247\n",
      "19247\n"
     ]
    }
   ],
   "source": [
    "#infinite loop \n",
    "url='https://www.google.com/search?sca_esv=b77408824fd4102b&q=play&udm=2&fbs=ABzOT_CWdhQLP1FcmU5B0fn3xuWpRMKsMcxP7tZYa-Fso78DLlXOvh_djnghqdmETleCIdf621JIA8eQ74r-yNLaj5an1SJkJEIKHbnKMb9CqQg5wvtSaIhLH0AHeHUo3CSDaTgPVsk99hmMkCupSlqCkURcomD6_oZYGDbJJuOhSY0rkhGMjAsTFI5BypUvGEBrpDhTC-HZCjPw3up7xWTbeh42SVtTug&sa=X&ved=2ahUKEwilyYuTncCMAxUj0TQHHU2wNuoQtKgLegQIGRAB&biw=1585&bih=1071&dpr=0.8'\n",
    "\n",
    "#enter \n",
    "driver=uc.Chrome()\n",
    "driver.maximize_window()\n",
    "driver.get(url)\n",
    "time.sleep(2)\n",
    "\n",
    "prev_height=driver.execute_script('return document.body.scrollHeight')\n",
    "print(prev_height)\n",
    "while True:\n",
    "    # Scroll to page bottom\n",
    "    driver.execute_script('window.scrollTo(0, document.body.scrollHeight);')\n",
    "\n",
    "    #waite for content to load \n",
    "\n",
    "    time.sleep(5)\n",
    "\n",
    "    new_height=driver.execute_script('return document.body.scrollHeight')\n",
    "    print(new_height)\n",
    "\n",
    "    if prev_height == new_height:\n",
    "        break\n",
    "    prev_height = new_height"
   ]
  },
  {
   "cell_type": "code",
   "execution_count": 67,
   "id": "0ebf35a5-90be-4b19-987c-52807a153c6e",
   "metadata": {},
   "outputs": [],
   "source": [
    "#2.Explicit\n",
    "\n",
    "url='https://www.google.com'\n",
    "driver=uc.Chrome()\n",
    "driver.get(url)\n",
    "\n",
    "search_bar=driver.find_element(By.XPATH,'//*[@id=\"APjFqb\"]')\n",
    "search_bar.send_keys('Machine Learning')\n",
    "\n",
    "wait=WebDriverWait(driver,20)\n",
    "wait.until(EC.element_to_be_clickable((By.XPATH,'/html/body/div[1]/div[3]/form/div[1]/div[1]/div[3]/center/input[1]')))\n",
    "\n",
    "search_bar.send_keys(Keys.ENTER)\n",
    "\n",
    "time.sleep(10)\n",
    "driver.quit()\n",
    "\n",
    "#driver.find_element(By.XPATH, /html/body/div[1]/div[3]/form/div[1]/div[1]/div[3]/center/input[1])"
   ]
  },
  {
   "cell_type": "code",
   "execution_count": 73,
   "id": "78d55f1e-04ec-4588-8916-d40ffc8acf37",
   "metadata": {},
   "outputs": [],
   "source": [
    "#3 implicit wait\n",
    "\n",
    "driver =webdriver.Chrome()\n",
    "\n",
    "driver.implicitly_wait(10)\n",
    "driver.get('https://www.google.com')\n",
    "time.sleep(2)\n",
    "\n",
    "search_bar=driver.find_element(By.XPATH,'//*[@id=\"APjFqb\"]')\n",
    "search_bar.send_keys('Machine Learning')\n",
    "time.sleep(1)\n",
    "\n",
    "search_bar.send_keys(Keys.ENTER)\n",
    "time.sleep(2)\n",
    "\n",
    "driver.quit()\n"
   ]
  },
  {
   "cell_type": "code",
   "execution_count": 75,
   "id": "b98e6882-75bb-41bb-aa22-249e4d6067b4",
   "metadata": {},
   "outputs": [],
   "source": [
    "#Frame and IFrames"
   ]
  },
  {
   "cell_type": "code",
   "execution_count": 79,
   "id": "7f342e8d-a91d-420e-b669-5dd67939013e",
   "metadata": {},
   "outputs": [],
   "source": [
    "driver =webdriver.Chrome()\n",
    "driver.maximize_window()\n",
    "url='https://www.w3schools.com/html/tryit.asp?filename=tryhtml_iframe_target'\n",
    "driver.get(url)\n",
    "time.sleep(2)\n",
    "\n",
    "iframe_element=driver.find_element(By.XPATH,'//*[@id=\"iframeResult\"]')\n",
    "driver.switch_to.frame(iframe_element)\n",
    "\n",
    "link=driver.find_element(By.XPATH,'/html/body/p[1]/a')\n",
    "link.click()\n",
    "time.sleep(5)\n",
    "\n",
    "driver.quit()\n"
   ]
  },
  {
   "cell_type": "code",
   "execution_count": 81,
   "id": "0a54dfd3-5ab3-4aa3-ad4d-a930e7a46e86",
   "metadata": {},
   "outputs": [],
   "source": [
    "#Handling Alerts"
   ]
  },
  {
   "cell_type": "code",
   "execution_count": 104,
   "id": "e2187b91-4e6c-43a8-9792-8ff9d20f43af",
   "metadata": {},
   "outputs": [
    {
     "name": "stdout",
     "output_type": "stream",
     "text": [
      "Alert Text:I am an alert box!\n"
     ]
    }
   ],
   "source": [
    "driver=webdriver.Chrome()\n",
    "driver.maximize_window()\n",
    "\n",
    "url=\"https://www.w3schools.com/js/tryit.asp?filename=tryjs_alert\"\n",
    "driver.get(url)\n",
    "time.sleep(2)\n",
    "\n",
    "iframe_element=driver.find_element(By.ID,'iframeResult')\n",
    "driver.switch_to.frame(iframe_element)\n",
    "\n",
    "botton=driver.find_element(By.XPATH,'/html/body/button')\n",
    "botton.click()\n",
    "time.sleep(2)\n",
    "\n",
    "print(f'Alert Text:{driver.switch_to.alert.text}')\n",
    "\n",
    "driver.switch_to.alert.accept()\n",
    "\n",
    "time.sleep(2)\n",
    "driver.switch_to.default_content()\n",
    "\n",
    "driver.quit()"
   ]
  },
  {
   "cell_type": "code",
   "execution_count": 117,
   "id": "7858f499-4460-4f85-ab73-3070dff175e5",
   "metadata": {},
   "outputs": [
    {
     "name": "stdout",
     "output_type": "stream",
     "text": [
      "Alert Text:I am an alert box!\n",
      "\n",
      " you click the cancel \n"
     ]
    }
   ],
   "source": [
    "driver=uc.Chrome()\n",
    "driver.maximize_window()\n",
    "\n",
    "url=\"https://www.w3schools.com/js/tryit.asp?filename=tryjs_alert\"\n",
    "driver.get(url)\n",
    "time.sleep(2)\n",
    "\n",
    "iframe_element=driver.find_element(By.ID,'iframeResult')\n",
    "driver.switch_to.frame(iframe_element)\n",
    "\n",
    "botton=driver.find_element(By.XPATH,'/html/body/button')\n",
    "botton.click()\n",
    "time.sleep(2)\n",
    "\n",
    "print(f'Alert Text:{driver.switch_to.alert.text}')\n",
    "\n",
    "#driver.switch_to.alert.accept()\n",
    "#print(\"\\n you click the accept \")\n",
    "driver.switch_to.alert.dismiss()\n",
    "print(\"\\n you click the cancel \")\n",
    "\n",
    "time.sleep(2)\n",
    "driver.switch_to.default_content()\n",
    "\n",
    "driver.quit()"
   ]
  },
  {
   "cell_type": "code",
   "execution_count": 133,
   "id": "42a561e9-dc94-4827-bd7d-5905981dd644",
   "metadata": {},
   "outputs": [
    {
     "ename": "NoSuchWindowException",
     "evalue": "Message: no such window: target window already closed\nfrom unknown error: web view not found\n  (Session info: chrome=135.0.7049.42)\nStacktrace:\n0   chromedriver                        0x0000000103241f14 cxxbridge1$str$ptr + 2816404\n1   chromedriver                        0x000000010323a1cc cxxbridge1$str$ptr + 2784332\n2   chromedriver                        0x0000000102d8240c cxxbridge1$string$len + 93024\n3   chromedriver                        0x0000000102d5c288 chromedriver + 131720\n4   chromedriver                        0x0000000102df1270 cxxbridge1$string$len + 547268\n5   chromedriver                        0x0000000102e09e00 cxxbridge1$string$len + 648532\n6   chromedriver                        0x0000000102dbd5bc cxxbridge1$string$len + 335120\n7   chromedriver                        0x000000010320653c cxxbridge1$str$ptr + 2572220\n8   chromedriver                        0x0000000103209800 cxxbridge1$str$ptr + 2585216\n9   chromedriver                        0x00000001031e6518 cxxbridge1$str$ptr + 2441112\n10  chromedriver                        0x000000010320a078 cxxbridge1$str$ptr + 2587384\n11  chromedriver                        0x00000001031d76b0 cxxbridge1$str$ptr + 2380080\n12  chromedriver                        0x000000010322a550 cxxbridge1$str$ptr + 2719696\n13  chromedriver                        0x000000010322a6dc cxxbridge1$str$ptr + 2720092\n14  chromedriver                        0x0000000103239e18 cxxbridge1$str$ptr + 2783384\n15  libsystem_pthread.dylib             0x0000000194fbc2e4 _pthread_start + 136\n16  libsystem_pthread.dylib             0x0000000194fb70fc thread_start + 8\n",
     "output_type": "error",
     "traceback": [
      "\u001b[0;31m---------------------------------------------------------------------------\u001b[0m",
      "\u001b[0;31mNoSuchWindowException\u001b[0m                     Traceback (most recent call last)",
      "Cell \u001b[0;32mIn[133], line 6\u001b[0m\n\u001b[1;32m      3\u001b[0m driver\u001b[38;5;241m.\u001b[39mget(url)\n\u001b[1;32m      4\u001b[0m time\u001b[38;5;241m.\u001b[39msleep(\u001b[38;5;241m2\u001b[39m)\n\u001b[0;32m----> 6\u001b[0m iframe_element\u001b[38;5;241m=\u001b[39mdriver\u001b[38;5;241m.\u001b[39mfind_element(By\u001b[38;5;241m.\u001b[39mID,\u001b[38;5;124m'\u001b[39m\u001b[38;5;124miframeResult\u001b[39m\u001b[38;5;124m'\u001b[39m)\n\u001b[1;32m      7\u001b[0m driver\u001b[38;5;241m.\u001b[39mswitch_to\u001b[38;5;241m.\u001b[39mframe(iframe_element)\n\u001b[1;32m      8\u001b[0m button\u001b[38;5;241m=\u001b[39mdriver\u001b[38;5;241m.\u001b[39mfind_element(By\u001b[38;5;241m.\u001b[39mXPATH,\u001b[38;5;124m'\u001b[39m\u001b[38;5;124m/html/body/button\u001b[39m\u001b[38;5;124m'\u001b[39m)\n",
      "File \u001b[0;32m/opt/anaconda3/lib/python3.12/site-packages/selenium/webdriver/remote/webdriver.py:898\u001b[0m, in \u001b[0;36mWebDriver.find_element\u001b[0;34m(self, by, value)\u001b[0m\n\u001b[1;32m    895\u001b[0m         \u001b[38;5;28;01mraise\u001b[39;00m NoSuchElementException(\u001b[38;5;124mf\u001b[39m\u001b[38;5;124m\"\u001b[39m\u001b[38;5;124mCannot locate relative element with: \u001b[39m\u001b[38;5;132;01m{\u001b[39;00mby\u001b[38;5;241m.\u001b[39mroot\u001b[38;5;132;01m}\u001b[39;00m\u001b[38;5;124m\"\u001b[39m)\n\u001b[1;32m    896\u001b[0m     \u001b[38;5;28;01mreturn\u001b[39;00m elements[\u001b[38;5;241m0\u001b[39m]\n\u001b[0;32m--> 898\u001b[0m \u001b[38;5;28;01mreturn\u001b[39;00m \u001b[38;5;28mself\u001b[39m\u001b[38;5;241m.\u001b[39mexecute(Command\u001b[38;5;241m.\u001b[39mFIND_ELEMENT, {\u001b[38;5;124m\"\u001b[39m\u001b[38;5;124musing\u001b[39m\u001b[38;5;124m\"\u001b[39m: by, \u001b[38;5;124m\"\u001b[39m\u001b[38;5;124mvalue\u001b[39m\u001b[38;5;124m\"\u001b[39m: value})[\u001b[38;5;124m\"\u001b[39m\u001b[38;5;124mvalue\u001b[39m\u001b[38;5;124m\"\u001b[39m]\n",
      "File \u001b[0;32m/opt/anaconda3/lib/python3.12/site-packages/selenium/webdriver/remote/webdriver.py:429\u001b[0m, in \u001b[0;36mWebDriver.execute\u001b[0;34m(self, driver_command, params)\u001b[0m\n\u001b[1;32m    427\u001b[0m response \u001b[38;5;241m=\u001b[39m \u001b[38;5;28mself\u001b[39m\u001b[38;5;241m.\u001b[39mcommand_executor\u001b[38;5;241m.\u001b[39mexecute(driver_command, params)\n\u001b[1;32m    428\u001b[0m \u001b[38;5;28;01mif\u001b[39;00m response:\n\u001b[0;32m--> 429\u001b[0m     \u001b[38;5;28mself\u001b[39m\u001b[38;5;241m.\u001b[39merror_handler\u001b[38;5;241m.\u001b[39mcheck_response(response)\n\u001b[1;32m    430\u001b[0m     response[\u001b[38;5;124m\"\u001b[39m\u001b[38;5;124mvalue\u001b[39m\u001b[38;5;124m\"\u001b[39m] \u001b[38;5;241m=\u001b[39m \u001b[38;5;28mself\u001b[39m\u001b[38;5;241m.\u001b[39m_unwrap_value(response\u001b[38;5;241m.\u001b[39mget(\u001b[38;5;124m\"\u001b[39m\u001b[38;5;124mvalue\u001b[39m\u001b[38;5;124m\"\u001b[39m, \u001b[38;5;28;01mNone\u001b[39;00m))\n\u001b[1;32m    431\u001b[0m     \u001b[38;5;28;01mreturn\u001b[39;00m response\n",
      "File \u001b[0;32m/opt/anaconda3/lib/python3.12/site-packages/selenium/webdriver/remote/errorhandler.py:232\u001b[0m, in \u001b[0;36mErrorHandler.check_response\u001b[0;34m(self, response)\u001b[0m\n\u001b[1;32m    230\u001b[0m         alert_text \u001b[38;5;241m=\u001b[39m value[\u001b[38;5;124m\"\u001b[39m\u001b[38;5;124malert\u001b[39m\u001b[38;5;124m\"\u001b[39m]\u001b[38;5;241m.\u001b[39mget(\u001b[38;5;124m\"\u001b[39m\u001b[38;5;124mtext\u001b[39m\u001b[38;5;124m\"\u001b[39m)\n\u001b[1;32m    231\u001b[0m     \u001b[38;5;28;01mraise\u001b[39;00m exception_class(message, screen, stacktrace, alert_text)  \u001b[38;5;66;03m# type: ignore[call-arg]  # mypy is not smart enough here\u001b[39;00m\n\u001b[0;32m--> 232\u001b[0m \u001b[38;5;28;01mraise\u001b[39;00m exception_class(message, screen, stacktrace)\n",
      "\u001b[0;31mNoSuchWindowException\u001b[0m: Message: no such window: target window already closed\nfrom unknown error: web view not found\n  (Session info: chrome=135.0.7049.42)\nStacktrace:\n0   chromedriver                        0x0000000103241f14 cxxbridge1$str$ptr + 2816404\n1   chromedriver                        0x000000010323a1cc cxxbridge1$str$ptr + 2784332\n2   chromedriver                        0x0000000102d8240c cxxbridge1$string$len + 93024\n3   chromedriver                        0x0000000102d5c288 chromedriver + 131720\n4   chromedriver                        0x0000000102df1270 cxxbridge1$string$len + 547268\n5   chromedriver                        0x0000000102e09e00 cxxbridge1$string$len + 648532\n6   chromedriver                        0x0000000102dbd5bc cxxbridge1$string$len + 335120\n7   chromedriver                        0x000000010320653c cxxbridge1$str$ptr + 2572220\n8   chromedriver                        0x0000000103209800 cxxbridge1$str$ptr + 2585216\n9   chromedriver                        0x00000001031e6518 cxxbridge1$str$ptr + 2441112\n10  chromedriver                        0x000000010320a078 cxxbridge1$str$ptr + 2587384\n11  chromedriver                        0x00000001031d76b0 cxxbridge1$str$ptr + 2380080\n12  chromedriver                        0x000000010322a550 cxxbridge1$str$ptr + 2719696\n13  chromedriver                        0x000000010322a6dc cxxbridge1$str$ptr + 2720092\n14  chromedriver                        0x0000000103239e18 cxxbridge1$str$ptr + 2783384\n15  libsystem_pthread.dylib             0x0000000194fbc2e4 _pthread_start + 136\n16  libsystem_pthread.dylib             0x0000000194fb70fc thread_start + 8\n"
     ]
    }
   ],
   "source": [
    "driver=webdriver.Chrome()\n",
    "url=\"https://www.w3schools.com/js/tryit.asp?filename=tryjs_prompt\"\n",
    "driver.get(url)\n",
    "time.sleep(2)\n",
    "\n",
    "iframe_element=driver.find_element(By.ID,'iframeResult')\n",
    "driver.switch_to.frame(iframe_element)\n",
    "button=driver.find_element(By.XPATH,'/html/body/button')\n",
    "button.click()\n",
    "print(f\"Alert exit: {driver.switch_to.alert.text}\")\n",
    "\n",
    "driver.switch_to.alert.send_keys('Bruce')\n",
    "driver.switch_to.alert.accept()\n",
    "\n",
    "time.sleep(2)\n",
    "driver.switch_to.default_content()\n",
    "\n",
    "driver.quit()\n"
   ]
  },
  {
   "cell_type": "code",
   "execution_count": 82,
   "id": "c0cfcd11-1807-4fa9-bf86-b53223b94496",
   "metadata": {},
   "outputs": [],
   "source": [
    "driver=uc.Chrome()\n",
    "driver.maximize_window()\n",
    "\n",
    "url='https://github.com/login'\n",
    "driver.get(url)\n",
    "time.sleep(2)\n",
    "\n",
    "\n",
    "#username filed\n",
    "username_field=driver.find_element(by=By.ID,value='login_field')\n",
    "username_field.send_keys('misbah')\n",
    "\n",
    "#pssword\n",
    "username_field=driver.find_element(by=By.ID,value='password')\n",
    "username_field.send_keys('1234')\n",
    "\n",
    "#click\n",
    "submit_botton_XPATH='//*[@id=\"login\"]/div[4]/form/div/input[13]'\n",
    "submit_botton=driver.find_element(by=By.XPATH,value=submit_botton_XPATH)\n",
    "submit_botton.click()\n",
    "\n",
    "driver.quit()\n"
   ]
  },
  {
   "cell_type": "code",
   "execution_count": 151,
   "id": "73318c1c-1cf4-42c4-a64d-89b14dc296c3",
   "metadata": {},
   "outputs": [],
   "source": [
    "driver=webdriver.Chrome()\n",
    "driver.maximize_window()\n",
    "\n",
    "url='https://github.com/login'\n",
    "driver.get(url)\n",
    "time.sleep(2)\n",
    "\n",
    "class LoginPage:\n",
    "    def __init__(self, driver):\n",
    "        self.driver=driver\n",
    "        self.username=(By.ID,'login_field')\n",
    "        self.password=(By.ID,'password')\n",
    "        self.login_button=(By.NAME,'commit')\n",
    "\n",
    "    def login(self,username,password):\n",
    "        self.driver.find_element(*self.username).send_keys(username)\n",
    "        self.driver.find_element(*self.password).send_keys(password)\n",
    "        time.sleep(2)\n",
    "        self.driver.find_element(*self.login_button).click()\n",
    "\n",
    "login_page=LoginPage(driver)\n",
    "login_page.login('Atul','pass123')\n",
    "\n",
    "time.sleep(2)\n",
    "driver.quit()\n",
    "\n",
    "\n",
    "\n"
   ]
  },
  {
   "cell_type": "code",
   "execution_count": null,
   "id": "61c23b8b-5921-4d93-bf87-69defea7cc42",
   "metadata": {},
   "outputs": [],
   "source": []
  },
  {
   "cell_type": "code",
   "execution_count": null,
   "id": "45f1ecf5-e2e7-40c5-a35f-138d3d7adffe",
   "metadata": {},
   "outputs": [],
   "source": []
  },
  {
   "cell_type": "code",
   "execution_count": null,
   "id": "0f778421-0dd0-4f9d-8b43-a1f81e466967",
   "metadata": {},
   "outputs": [],
   "source": []
  },
  {
   "cell_type": "code",
   "execution_count": null,
   "id": "d4b2c490-ec34-47b9-a9ae-d169856b062f",
   "metadata": {},
   "outputs": [],
   "source": []
  }
 ],
 "metadata": {
  "kernelspec": {
   "display_name": "Python [conda env:base] *",
   "language": "python",
   "name": "conda-base-py"
  },
  "language_info": {
   "codemirror_mode": {
    "name": "ipython",
    "version": 3
   },
   "file_extension": ".py",
   "mimetype": "text/x-python",
   "name": "python",
   "nbconvert_exporter": "python",
   "pygments_lexer": "ipython3",
   "version": "3.12.2"
  }
 },
 "nbformat": 4,
 "nbformat_minor": 5
}
