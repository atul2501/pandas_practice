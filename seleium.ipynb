{
 "cells": [
  {
   "cell_type": "code",
   "execution_count": 3,
   "id": "7531c838-1b4d-41e1-9b5b-716bad23b379",
   "metadata": {},
   "outputs": [],
   "source": [
    "import time\n",
    "from selenium import webdriver"
   ]
  },
  {
   "cell_type": "code",
   "execution_count": 5,
   "id": "fc9ed828-83fb-471e-a963-8fd07f257507",
   "metadata": {},
   "outputs": [
    {
     "name": "stdout",
     "output_type": "stream",
     "text": [
      "Title :\n",
      " url :https://www.binance.com/en/\n"
     ]
    },
    {
     "name": "stderr",
     "output_type": "stream",
     "text": [
      "/opt/anaconda3/lib/python3.12/site-packages/selenium/webdriver/remote/webdriver.py:994: UserWarning: name used for saved screenshot does not match file type. It should end with a `.png` extension\n",
      "  return self.get_screenshot_as_file(filename)\n"
     ]
    },
    {
     "name": "stdout",
     "output_type": "stream",
     "text": [
      "! sucessfully taken\n"
     ]
    }
   ],
   "source": [
    "driver=webdriver.Chrome()\n",
    "\n",
    "url='https://www.binance.com'\n",
    "\n",
    "driver.maximize_window()\n",
    "driver.get(url)\n",
    "print(f'Title :{driver.title}')\n",
    "print(f\" url :{driver.current_url}\")\n",
    "\n",
    "driver.save_screenshot('google-screenshort')\n",
    "print('! sucessfully taken')\n",
    "\n",
    "time.sleep(5)\n",
    "driver.quit()"
   ]
  },
  {
   "cell_type": "markdown",
   "id": "03306b87-2943-42f6-9ecf-6af689172e4e",
   "metadata": {},
   "source": [
    "# location element "
   ]
  },
  {
   "cell_type": "code",
   "execution_count": 65,
   "id": "4267478c-43c2-476d-93cc-09253218d157",
   "metadata": {},
   "outputs": [
    {
     "name": "stdout",
     "output_type": "stream",
     "text": [
      "Collecting undetected-chromedriver\n",
      "  Downloading undetected-chromedriver-3.5.5.tar.gz (65 kB)\n",
      "  Preparing metadata (setup.py) ... \u001b[?25ldone\n",
      "\u001b[?25hRequirement already satisfied: selenium>=4.9.0 in /opt/anaconda3/lib/python3.12/site-packages (from undetected-chromedriver) (4.30.0)\n",
      "Requirement already satisfied: requests in /opt/anaconda3/lib/python3.12/site-packages (from undetected-chromedriver) (2.32.3)\n",
      "Requirement already satisfied: websockets in /opt/anaconda3/lib/python3.12/site-packages (from undetected-chromedriver) (14.2)\n",
      "Requirement already satisfied: urllib3<3,>=1.26 in /opt/anaconda3/lib/python3.12/site-packages (from urllib3[socks]<3,>=1.26->selenium>=4.9.0->undetected-chromedriver) (2.3.0)\n",
      "Requirement already satisfied: trio~=0.17 in /opt/anaconda3/lib/python3.12/site-packages (from selenium>=4.9.0->undetected-chromedriver) (0.29.0)\n",
      "Requirement already satisfied: trio-websocket~=0.9 in /opt/anaconda3/lib/python3.12/site-packages (from selenium>=4.9.0->undetected-chromedriver) (0.12.2)\n",
      "Requirement already satisfied: certifi>=2021.10.8 in /opt/anaconda3/lib/python3.12/site-packages (from selenium>=4.9.0->undetected-chromedriver) (2025.1.31)\n",
      "Requirement already satisfied: typing_extensions~=4.9 in /opt/anaconda3/lib/python3.12/site-packages (from selenium>=4.9.0->undetected-chromedriver) (4.12.2)\n",
      "Requirement already satisfied: websocket-client~=1.8 in /opt/anaconda3/lib/python3.12/site-packages (from selenium>=4.9.0->undetected-chromedriver) (1.8.0)\n",
      "Requirement already satisfied: charset-normalizer<4,>=2 in /opt/anaconda3/lib/python3.12/site-packages (from requests->undetected-chromedriver) (3.3.2)\n",
      "Requirement already satisfied: idna<4,>=2.5 in /opt/anaconda3/lib/python3.12/site-packages (from requests->undetected-chromedriver) (3.7)\n",
      "Requirement already satisfied: attrs>=23.2.0 in /opt/anaconda3/lib/python3.12/site-packages (from trio~=0.17->selenium>=4.9.0->undetected-chromedriver) (24.3.0)\n",
      "Requirement already satisfied: sortedcontainers in /opt/anaconda3/lib/python3.12/site-packages (from trio~=0.17->selenium>=4.9.0->undetected-chromedriver) (2.4.0)\n",
      "Requirement already satisfied: outcome in /opt/anaconda3/lib/python3.12/site-packages (from trio~=0.17->selenium>=4.9.0->undetected-chromedriver) (1.3.0.post0)\n",
      "Requirement already satisfied: sniffio>=1.3.0 in /opt/anaconda3/lib/python3.12/site-packages (from trio~=0.17->selenium>=4.9.0->undetected-chromedriver) (1.3.0)\n",
      "Requirement already satisfied: wsproto>=0.14 in /opt/anaconda3/lib/python3.12/site-packages (from trio-websocket~=0.9->selenium>=4.9.0->undetected-chromedriver) (1.2.0)\n",
      "Requirement already satisfied: pysocks!=1.5.7,<2.0,>=1.5.6 in /opt/anaconda3/lib/python3.12/site-packages (from urllib3[socks]<3,>=1.26->selenium>=4.9.0->undetected-chromedriver) (1.7.1)\n",
      "Requirement already satisfied: h11<1,>=0.9.0 in /opt/anaconda3/lib/python3.12/site-packages (from wsproto>=0.14->trio-websocket~=0.9->selenium>=4.9.0->undetected-chromedriver) (0.14.0)\n",
      "Building wheels for collected packages: undetected-chromedriver\n",
      "  Building wheel for undetected-chromedriver (setup.py) ... \u001b[?2done\n",
      "\u001b[?25h  Created wheel for undetected-chromedriver: filename=undetected_chromedriver-3.5.5-py3-none-any.whl size=47099 sha256=88ed5b2bd963345a3f335110f35d7f9f1db76052b41d3e95d0f2aa25028fe3f3\n",
      "  Stored in directory: /Users/atul2501/Library/Caches/pip/wheels/c4/f1/aa/9de6cf276210554d91e9c0526864563e850a428c5e76da4914\n",
      "Successfully built undetected-chromedriver\n",
      "Installing collected packages: undetected-chromedriver\n",
      "Successfully installed undetected-chromedriver-3.5.5\n",
      "Note: you may need to restart the kernel to use updated packages.\n"
     ]
    }
   ],
   "source": [
    "pip install undetected-chromedriver"
   ]
  },
  {
   "cell_type": "code",
   "execution_count": 67,
   "id": "fd0a5168-6437-43c9-a609-20237dfcb462",
   "metadata": {},
   "outputs": [],
   "source": [
    "\n",
    "import time\n",
    "from selenium import webdriver\n",
    "from selenium.webdriver.common.by import By\n",
    "from selenium.webdriver.common.keys import Keys\n",
    "import undetected_chromedriver as uc\n",
    "driver = uc.Chrome()\n",
    "\n"
   ]
  },
  {
   "cell_type": "code",
   "execution_count": null,
   "id": "704ebd30-25b4-40ff-aade-0f5952fcc228",
   "metadata": {},
   "outputs": [],
   "source": [
    "driver = webdriver.Chrome()\n",
    "driver.maximize_window()\n",
    "\n",
    "url='https://www.google.com'\n",
    "driver.get(url)\n",
    "time.sleep(2)\n",
    "\n",
    "search_bar_xpath='//*[@id=\"APjFqb\"]'\n",
    "search_bar=driver.find_element(by=By.XPATH,value=search_bar_xpath)\n",
    "\n",
    "#enter point\n",
    "search_bar.send_keys('machine Learning')\n",
    "time.sleep(2)\n",
    "\n",
    "\n",
    "\n",
    "search_bar.send_keys(Keys.ENTER)\n",
    "time.sleep(10)\n",
    "\n",
    "#clear Field\n",
    "#search_bar.clear()\n",
    "#time.sleep(1)\n",
    "\n",
    "#clicking action \n",
    "link_xpath= '//*[@id=\"rso\"]/div[2]/div/div/div[1]/div/div[2]/div/div/span/a/h3'\n",
    "link=driver.find_element(by=By.XPATH,value=link_xpath)\n",
    "link.click()"
   ]
  },
  {
   "cell_type": "code",
   "execution_count": null,
   "id": "e6d02d65-b9fb-4f8d-9340-c3a09dc7f7b6",
   "metadata": {},
   "outputs": [],
   "source": [
    "driver."
   ]
  },
  {
   "cell_type": "code",
   "execution_count": null,
   "id": "233ccf2c-3b8e-4404-b90e-9a519448764a",
   "metadata": {},
   "outputs": [],
   "source": []
  }
 ],
 "metadata": {
  "kernelspec": {
   "display_name": "Python [conda env:base] *",
   "language": "python",
   "name": "conda-base-py"
  },
  "language_info": {
   "codemirror_mode": {
    "name": "ipython",
    "version": 3
   },
   "file_extension": ".py",
   "mimetype": "text/x-python",
   "name": "python",
   "nbconvert_exporter": "python",
   "pygments_lexer": "ipython3",
   "version": "3.12.2"
  }
 },
 "nbformat": 4,
 "nbformat_minor": 5
}
